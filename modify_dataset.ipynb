{
 "cells": [
  {
   "cell_type": "code",
   "execution_count": 35,
   "metadata": {},
   "outputs": [],
   "source": [
    "import os\n",
    "import pandas as pd\n",
    "import numpy as np\n",
    "import shutil\n",
    "import matplotlib.pyplot as plt"
   ]
  },
  {
   "cell_type": "code",
   "execution_count": 31,
   "metadata": {},
   "outputs": [],
   "source": [
    "phase = 'train'"
   ]
  },
  {
   "cell_type": "code",
   "execution_count": 32,
   "metadata": {},
   "outputs": [],
   "source": [
    "csv_path = 'raw_data/'+ phase +'/labels_'+ phase '/' + phase + '_gtruth.csv'\n",
    "img_path = 'raw_data/'+ phase +'/data/'\n",
    "df = pd.read_csv(csv_path)\n",
    "np_array = df.values"
   ]
  },
  {
   "cell_type": "code",
   "execution_count": 38,
   "metadata": {},
   "outputs": [
    {
     "name": "stdout",
     "output_type": "stream",
     "text": [
      "The present working directory is: /mnt/c/Users/souga/Documents/biometric_fusion/ChaLearnLAP\n"
     ]
    }
   ],
   "source": [
    "cwd = os.getcwd()\n",
    "print(\"The present working directory is:\", cwd)"
   ]
  },
  {
   "cell_type": "code",
   "execution_count": 15,
   "metadata": {},
   "outputs": [],
   "source": [
    "no_rows = len(np_array[:,0])"
   ]
  },
  {
   "cell_type": "code",
   "execution_count": 46,
   "metadata": {},
   "outputs": [],
   "source": [
    "for i in range(no_rows):\n",
    "    name_of_img = str(np_array[i,0]) + '.jpg'\n",
    "    class_name = str(np_array[i,1])\n",
    "    # print(name_of_img)\n",
    "    # print(class_name)\n",
    "    # Create the directory\n",
    "    dest_folder_path = cwd + '/' + 'modified_data/'+ phase + '/' + class_name\n",
    "    # The exist_ok=True argument tells the function not to raise an error if the folder already exists.\n",
    "    os.makedirs(dest_folder_path, exist_ok=True)\n",
    "    # now copy the file from dir \"raw_data\" to dir \"modified_data\"\n",
    "    src_file_path = cwd + '/' + 'raw_data/'+ phase + '/data/' + name_of_img\n",
    "    # img = plt.imread(src_file_path)\n",
    "\n",
    "    # # display the image using imshow()\n",
    "    # plt.imshow(img)\n",
    "    # break\n",
    "    shutil.copy(src_file_path, dest_folder_path) "
   ]
  }
 ],
 "metadata": {
  "kernelspec": {
   "display_name": "torch",
   "language": "python",
   "name": "python3"
  },
  "language_info": {
   "codemirror_mode": {
    "name": "ipython",
    "version": 3
   },
   "file_extension": ".py",
   "mimetype": "text/x-python",
   "name": "python",
   "nbconvert_exporter": "python",
   "pygments_lexer": "ipython3",
   "version": "3.7.13"
  },
  "orig_nbformat": 4,
  "vscode": {
   "interpreter": {
    "hash": "9cbce6e882a989494bd6e695b5d73f3ae120927e1657582a8b4fc7aae15280bc"
   }
  }
 },
 "nbformat": 4,
 "nbformat_minor": 2
}
